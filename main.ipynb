{
 "cells": [
  {
   "cell_type": "code",
   "execution_count": null,
   "metadata": {},
   "outputs": [],
   "source": [
    "import pandas as pd\n",
    "from openai import OpenAI\n",
    "import json\n",
    "import tqdm\n",
    "import matplotlib.pyplot as plt\n",
    "import datetime\n",
    "import concurrent.futures\n",
    "from collections import Counter\n",
    "import copy\n",
    "\n",
    "\n",
    "client = OpenAI(\n",
    "    # This is the default and can be omitted\n",
    "    api_key=\"\",\n",
    "    base_url=\"https://api.chatanywhere.tech/v1\"\n",
    ")\n",
    "secret_word_used = set([\"Leonardo DiCaprio\", \"Taylor Swift\", \"Beyoncé\"])\n",
    "topic = \"movie star\""
   ]
  },
  {
   "cell_type": "code",
   "execution_count": 3,
   "metadata": {},
   "outputs": [],
   "source": [
    "system_prompt = f\"\"\"\n",
    "Now we will play a game called Chameleon. I want you to be the game organizer.\n",
    "Your task is to update and process game information.\n",
    "Imagine we have 4 players. You should randomly assign a role to each player. Which means\n",
    "there should be one Chameleon among all players.\n",
    "Each player is controlled by real person. I will update their choices after each\n",
    "round. You should not say any unrelated words. Now let's begin. You should randomly give a topic and secret word.\n",
    "The format should be in a json foramt:\n",
    "{{\"Topic\": {topic},  \n",
    "\"Secret Word\": \"\",\n",
    "\"Roles\":{{\"player1\": \"non-chameleon\", \"player2\":\"non-chameleon\", \"player3\":\"chameleon\", \"player4\":\"non-chameleon\"}}\n",
    "}}\n",
    "You should assign a secret word based on topic {topic}, don't use the word in {secret_word_used}. Also the roles should be randomized.\n",
    "Don't let player1 be chameleon.\n",
    "\"\"\""
   ]
  },
  {
   "cell_type": "code",
   "execution_count": null,
   "metadata": {},
   "outputs": [],
   "source": [
    "print(system_prompt)"
   ]
  },
  {
   "cell_type": "code",
   "execution_count": null,
   "metadata": {},
   "outputs": [],
   "source": [
    "chat_completion = client.chat.completions.create(\n",
    "    messages=[\n",
    "        {\n",
    "            \"role\": \"system\",\n",
    "            \"content\": system_prompt,\n",
    "        }\n",
    "    ],\n",
    "    model=\"gpt-4o-mini\",\n",
    ")\n",
    "response = chat_completion.choices[0].message.content\n",
    "print(response)"
   ]
  },
  {
   "cell_type": "code",
   "execution_count": null,
   "metadata": {},
   "outputs": [],
   "source": [
    "cleaned_string = response.replace('\\n', '')\n",
    "system_game_info = json.loads(response)\n",
    "system_game_info"
   ]
  },
  {
   "cell_type": "code",
   "execution_count": 7,
   "metadata": {},
   "outputs": [],
   "source": [
    "# system_game_info['Secret Word'] = \"Edward Norton\""
   ]
  },
  {
   "cell_type": "code",
   "execution_count": 8,
   "metadata": {},
   "outputs": [],
   "source": [
    "agent_prompt_discussion_stage = \"\"\"\n",
    "Now we will play a game called Chameleon. I want you to be one of the players.\n",
    "If you are a chameleon, try to guess the secret word.\n",
    "If you are not a chameleon, talk about something related to the topic and secret word, but do not reveal the secret word directly.\n",
    "No matter the role you are, you should only say one word.\n",
    "I will provide you the game info in a json format.\n",
    "For example:\n",
    "{'Topic': 'Fruits', 'Secret Word': 'Mango', 'Roles': 'non-chameleon', 'Round': 1, 'your position': 'player2', 'discussion': {'player1': ['Tropical'], 'player2': [], 'player3': [], 'player4': []}}\n",
    "\"\"\"\n",
    "\n",
    "agent_prompt_discussion_stage = \"\"\"\n",
    "Now we will play a game called Chameleon. I want you to be one of the players.\n",
    "If you are a chameleon, try to guess the secret word in heart. But don't say it out loud. Because your goal is to hide your identity.\n",
    "You can say something similar like what other people said.\n",
    "If you are not a chameleon, talk about something related to the topic and secret word, but do not reveal the secret word directly.\n",
    "Try to be vague, because if you are too obvious, the chameleon could easily have guessed it. But don't be too vague. your answer should be related to\n",
    "topic and secret word. It's better to be specific but not revealing too much.\n",
    "No matter each role, you should just say one short sentence. You shouldn't mention topic and secret word. \n",
    "And the sentence can be just few words. Don't be grammarly correct. Say it just like normal people do.\n",
    "I will provide you the game info in a json format.\n",
    "For example:\n",
    "{'Topic': 'Fruits', 'Secret Word': 'Mango', 'Roles': 'non-chameleon', 'Round': 1, 'your position': 'player2', 'discussion': {'player1': ['Tropical'], 'player2': [], 'player3': [], 'player4': []}}\n",
    "\"\"\""
   ]
  },
  {
   "cell_type": "code",
   "execution_count": 9,
   "metadata": {},
   "outputs": [],
   "source": [
    "discussion_history = {\"player1\": [], \"player2\":[], \"player3\":[], \"player4\":[]}\n",
    "roles = system_game_info['Roles']\n",
    "game_info_archive = {\"round1\": {\"player1\": [], \"player2\":[], \"player3\":[], \"player4\":[]}}\n",
    "chameleon_player = [key for key, value in roles.items() if value == 'chameleon'][0]\n",
    "secret_word_used.add(system_game_info['Secret Word'])"
   ]
  },
  {
   "cell_type": "code",
   "execution_count": null,
   "metadata": {},
   "outputs": [],
   "source": [
    "for player in discussion_history.keys():\n",
    "    role = roles[player]\n",
    "    if role == 'non-chameleon':\n",
    "        game_info = {'Topic': system_game_info['Topic'], 'Secret Word': system_game_info['Secret Word'], 'Roles': role, \"Round\": 1,\n",
    "                            \"your position\": player,\n",
    "                            \"discussion\":discussion_history}\n",
    "    else:\n",
    "        game_info = {'Topic': '', 'Secret Word': '', 'Roles': role, \"Round\": 1,\n",
    "                            \"your position\": player,\n",
    "                            \"discussion\":discussion_history}\n",
    "    print(game_info)\n",
    "    \n",
    "    chat_completion = client.chat.completions.create(\n",
    "        messages=[\n",
    "            {\n",
    "                \"role\": \"system\",\n",
    "                \"content\": agent_prompt_discussion_stage,\n",
    "            },\n",
    "            {\n",
    "                \"role\":\"user\",\n",
    "                \"content\": f\"game info{game_info}\"\n",
    "            }\n",
    "        ],\n",
    "        model=\"gpt-4o-mini\",\n",
    "    )\n",
    "    response = chat_completion.choices[0].message.content\n",
    "    print(response)\n",
    "    discussion_history[player].append(response)\n",
    "    game_info[\"discussion\"] = copy.deepcopy(discussion_history)\n",
    "    game_info_archive['round1'][player].append(game_info)"
   ]
  },
  {
   "cell_type": "code",
   "execution_count": null,
   "metadata": {},
   "outputs": [],
   "source": [
    "discussion_history"
   ]
  },
  {
   "cell_type": "code",
   "execution_count": null,
   "metadata": {},
   "outputs": [],
   "source": [
    "game_info_public = {\"Round\": 1, \"discussion\":discussion_history}\n",
    "game_info_public"
   ]
  },
  {
   "cell_type": "code",
   "execution_count": 13,
   "metadata": {},
   "outputs": [],
   "source": [
    "voting_prompt=f\"\"\"game info: {game_info_public}\n",
    "Now the discussion stage on round 1 is over. Now it's the voting stage.\n",
    "Each player should vote out the player whom you think is most like a chameleon.\n",
    "give your reason, then\n",
    "Vote a player by saying its number. You should state one number.\n",
    "The format should be in a python array : [a single number you voted, your reasoning]\n",
    "In your reasoning, state your role and player number first, then think. If you are chameleon, try to guess the secret word and topic.\n",
    "\"\"\""
   ]
  },
  {
   "cell_type": "code",
   "execution_count": null,
   "metadata": {},
   "outputs": [],
   "source": [
    "for player in discussion_history.keys():\n",
    "    role = roles[player]\n",
    "    game_info = game_info_archive['round1'][player]\n",
    "    chat_completion = client.chat.completions.create(\n",
    "        messages=[\n",
    "            {\n",
    "                \"role\": \"system\",\n",
    "                \"content\": agent_prompt_discussion_stage,\n",
    "            },\n",
    "            {\n",
    "                \"role\" : \"user\",\n",
    "                \"content\": f\"game info for round1 discussion stage: {game_info}\"\n",
    "            },\n",
    "            {\n",
    "                \"role\" : \"user\",\n",
    "                \"content\": voting_prompt\n",
    "            }\n",
    "        ],\n",
    "        model=\"gpt-4o-mini\",\n",
    "    )\n",
    "    response = chat_completion.choices[0].message.content\n",
    "    print(response)\n",
    "    "
   ]
  },
  {
   "cell_type": "code",
   "execution_count": null,
   "metadata": {},
   "outputs": [],
   "source": [
    "role = roles[chameleon_player]\n",
    "game_info = game_info_archive['round1'][chameleon_player]\n",
    "chat_completion = client.chat.completions.create(\n",
    "    messages=[\n",
    "        {\n",
    "            \"role\": \"system\",\n",
    "            \"content\": agent_prompt_discussion_stage,\n",
    "        },\n",
    "        {\n",
    "            \"role\" : \"user\",\n",
    "            \"content\": f\"game info for round1 discussion stage: {game_info}\"\n",
    "        },\n",
    "        {\n",
    "            \"role\" : \"user\",\n",
    "            \"content\": f\"\"\"game info after round1: {game_info_public} This is the final round for chameleon player, which is you.\n",
    "            in order for you to win,\n",
    "            first state your role and which player you are, then do step by step reasoning to guess the topic and secret word\n",
    "            at this stage, you can safely say it out loud\"\"\"\n",
    "        }\n",
    "    ],\n",
    "    model=\"gpt-4o-mini\",\n",
    ")\n",
    "response = chat_completion.choices[0].message.content\n",
    "print(response)"
   ]
  }
 ],
 "metadata": {
  "kernelspec": {
   "display_name": ".venv",
   "language": "python",
   "name": "python3"
  },
  "language_info": {
   "codemirror_mode": {
    "name": "ipython",
    "version": 3
   },
   "file_extension": ".py",
   "mimetype": "text/x-python",
   "name": "python",
   "nbconvert_exporter": "python",
   "pygments_lexer": "ipython3",
   "version": "3.13.0"
  }
 },
 "nbformat": 4,
 "nbformat_minor": 2
}
